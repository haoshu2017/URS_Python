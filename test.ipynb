{
 "cells": [
  {
   "cell_type": "code",
   "execution_count": 1,
   "metadata": {},
   "outputs": [],
   "source": [
    "import numpy as np \n",
    "import pandas as pd\n",
    "\n",
    "from tabula import read_pdf\n",
    "from tabulate import tabulate"
   ]
  },
  {
   "cell_type": "code",
   "execution_count": 5,
   "metadata": {},
   "outputs": [
    {
     "name": "stdout",
     "output_type": "stream",
     "text": [
      "['URS_PuertoRico.pdf', 'URS_VA.pdf', 'URS_Palau.pdf', 'URS_SC.pdf']\n",
      "                                Measure Number of Clients  \\\n",
      "0   Total Clients Served by SMHA System           123,936   \n",
      "1  Clients Served in Community Settings           122,155   \n",
      "2     Clients Served in State Hospitals             5,327   \n",
      "\n",
      "   Utilization Rate Per 1,000 Population  \n",
      "0                                   14.3  \n",
      "1                                   14.1  \n",
      "2                                    0.6  \n"
     ]
    }
   ],
   "source": [
    "import os\n",
    "os.getcwd()\n",
    "\n",
    "pdf_dir = 'Raw Data/'\n",
    "print(os.listdir(pdf_dir))\n"
   ]
  },
  {
   "cell_type": "markdown",
   "metadata": {},
   "source": []
  },
  {
   "cell_type": "code",
   "execution_count": 12,
   "metadata": {},
   "outputs": [
    {
     "name": "stdout",
     "output_type": "stream",
     "text": [
      "                                Measure Number of Clients  \\\n",
      "0   Total Clients Served by SMHA System           123,936   \n",
      "1  Clients Served in Community Settings           122,155   \n",
      "2     Clients Served in State Hospitals             5,327   \n",
      "\n",
      "   Utilization Rate Per 1,000 Population  \n",
      "0                                   14.3  \n",
      "1                                   14.1  \n",
      "2                                    0.6  \n"
     ]
    }
   ],
   "source": [
    "## Read table from pdf file\n",
    "\n",
    "pdf_dir = 'Raw Data/'\n",
    "os.listdir\n",
    "\n",
    "tables_pg4 = read_pdf(os.path.join(pdf_dir, \"URS_VA.pdf\"), pages=4, multiple_tables=True)\n",
    "\n",
    "## Read tables[2] into a dataframe \n",
    "df_total = pd.DataFrame(tables_pg4[2])\n",
    "\n",
    "## Save the served patients by age group into a separate table \n",
    "tables_pg5= read_pdf(os.path.join(pdf_dir,\"URS_VA.pdf\"), pages=5, multiple_tables=True )\n",
    "\n",
    "df_age = pd.DataFrame(tables_pg5[0])\n",
    "\n",
    "# Only selecting specfic rows and columns that are associated with served patients & rates\n",
    "df_ageshort = df_age[[\"Unnamed: 0\", \"Unnamed: 1\", \"Unnamed: 5\"]][4:13]\n",
    "\n",
    "# Rename the df_ageshort dataframe by the column index\n",
    "df_2 = df_ageshort.rename(columns={df_ageshort.columns[0]: \"Measure\", \n",
    "                                    df_ageshort.columns[1]: \"PatientsServed\", \n",
    "                                    df_ageshort.columns[2]: \"ServedRate\"})\n",
    "\n",
    "df_2.head(10)\n",
    "\n",
    "## Combine Total measure summary table with the age table \n",
    "# First rename the Total measure summary table so it will be eaiser to append\n",
    "df_total = df_total.rename(columns= {df_total.columns[1]: \"PatientsServed\", \n",
    "                                     df_total.columns[2]: \"ServedRate\"})\n",
    "\n",
    "df_total.head(5)\n",
    "\n",
    "df_transformed = df_total.append(df_2)\n",
    "\n",
    "# Add a column indicating the state \n",
    "df_transformed['State'] = 'VA'\n",
    "\n",
    "\n",
    "\n"
   ]
  },
  {
   "cell_type": "code",
   "execution_count": 15,
   "metadata": {},
   "outputs": [
    {
     "name": "stdout",
     "output_type": "stream",
     "text": [
      "Index(['Measure', 'Number of Clients',\n",
      "       'Utilization Rate Per 1,000 Population'],\n",
      "      dtype='object')\n"
     ]
    }
   ],
   "source": []
  },
  {
   "cell_type": "code",
   "execution_count": 36,
   "metadata": {},
   "outputs": [
    {
     "name": "stdout",
     "output_type": "stream",
     "text": [
      "                      Unnamed: 0 Unnamed: 1 Unnamed: 2      Total Served  \\\n",
      "0                            NaN        NaN        NaN               NaN   \n",
      "1                            NaN        NaN      State               NaN   \n",
      "2                   Demographics          n        NaN               % n   \n",
      "3                          Total    123,936        NaN  100.0% 8,180,236   \n",
      "4                           0-12     15,802        NaN   12.8% 1,158,981   \n",
      "5                          13-17     18,129        NaN   14.6% 1,038,021   \n",
      "6                          18-20      5,825        NaN      4.7% 412,521   \n",
      "7                          21-24      6,879        NaN      5.6% 492,047   \n",
      "8                          25-44     39,398        NaN   31.8% 2,703,227   \n",
      "9                          45-64     30,113        NaN   24.3% 1,868,490   \n",
      "10                         65-74      6,130        NaN      4.9% 352,243   \n",
      "11                   75 and over      1,656        NaN      1.3% 137,344   \n",
      "12             Age Not Available          4        NaN       0.0% 17,362   \n",
      "13                        Female     63,673        NaN   51.4% 4,394,191   \n",
      "14                          Male     60,122        NaN   48.5% 3,730,939   \n",
      "15                         Other          -        NaN          - 16,811   \n",
      "16          Gender Not Available        141        NaN       0.1% 38,295   \n",
      "17       American Indian/Alaskan        NaN        NaN               NaN   \n",
      "18                           NaN        279        NaN      0.2% 152,709   \n",
      "19                        Native        NaN        NaN               NaN   \n",
      "20                         Asian      1,583        NaN      1.3% 129,994   \n",
      "21        Black/African American     33,495        NaN   27.0% 1,424,351   \n",
      "22       Native Hawaiian/Pacific        NaN        NaN               NaN   \n",
      "23                           NaN        109        NaN       0.1% 24,325   \n",
      "24                      Islander        NaN        NaN               NaN   \n",
      "25                         White     74,371        NaN   60.0% 4,737,430   \n",
      "26                  Multi-Racial      5,724        NaN      4.6% 231,800   \n",
      "27            Race Not Available      8,375        NaN    6.8% 1,479,627   \n",
      "28  Hispanic or Latino Ethnicity      9,662        NaN    7.8% 1,164,171   \n",
      "29        Not Hispanic or Latino        NaN        NaN               NaN   \n",
      "30                           NaN    110,322        NaN   89.0% 5,482,345   \n",
      "31                     Ethnicity        NaN        NaN               NaN   \n",
      "32       Ethnicity Not Available      3,952        NaN      3.2% 715,131   \n",
      "\n",
      "   Unnamed: 3 Unnamed: 4 Unnamed: 5       Penetration Rates Unnamed: 6  \\\n",
      "0         NaN        NaN        NaN                     NaN        NaN   \n",
      "1          US        NaN        NaN  (per 1,000 population)        NaN   \n",
      "2         NaN          %      State                   South         US   \n",
      "3         NaN     100.0%       14.3                    16.7       24.4   \n",
      "4         NaN      14.2%       11.9                    14.6       22.4   \n",
      "5         NaN      12.7%       32.7                    32.9       47.5   \n",
      "6         NaN       5.0%       16.9                    22.0       31.9   \n",
      "7         NaN       6.0%       15.1                    20.4       28.6   \n",
      "8         NaN      33.0%       16.8                    22.1       30.4   \n",
      "9         NaN      22.8%       13.6                    15.5       22.4   \n",
      "10        NaN       4.3%        7.2                     5.4       10.5   \n",
      "11        NaN       1.7%        3.0                     2.0        6.2   \n",
      "12        NaN       0.2%          -                       -          -   \n",
      "13        NaN      53.7%       14.6                    17.5       25.9   \n",
      "14        NaN      45.6%       14.1                    15.7       22.4   \n",
      "15        NaN       0.2%          -                       -          -   \n",
      "16        NaN       0.5%          -                       -          -   \n",
      "17        NaN        NaN        NaN                     NaN        NaN   \n",
      "18        NaN       1.9%        5.7                    10.0       35.0   \n",
      "19        NaN        NaN        NaN                     NaN        NaN   \n",
      "20        NaN       1.6%        2.5                     2.8        6.4   \n",
      "21        NaN      17.4%       19.4                    19.6       31.6   \n",
      "22        NaN        NaN        NaN                     NaN        NaN   \n",
      "23        NaN       0.3%       10.2                    16.0       28.6   \n",
      "24        NaN        NaN        NaN                     NaN        NaN   \n",
      "25        NaN      57.9%       12.5                    14.2       18.8   \n",
      "26        NaN       2.8%       19.8                    17.9       25.7   \n",
      "27        NaN      18.1%          -                       -          -   \n",
      "28        NaN      15.8%       10.9                     6.2       19.4   \n",
      "29        NaN      74.5%        NaN                     NaN        NaN   \n",
      "30        NaN        NaN       14.2                    13.3       21.3   \n",
      "31        NaN        NaN        NaN                     NaN        NaN   \n",
      "32        NaN       9.7%          -                       -          -   \n",
      "\n",
      "   Unnamed: 7  \n",
      "0      States  \n",
      "1         NaN  \n",
      "2   Reporting  \n",
      "3          59  \n",
      "4          59  \n",
      "5          59  \n",
      "6          59  \n",
      "7          59  \n",
      "8          59  \n",
      "9          59  \n",
      "10         59  \n",
      "11         58  \n",
      "12         24  \n",
      "13         59  \n",
      "14         59  \n",
      "15         12  \n",
      "16         38  \n",
      "17        NaN  \n",
      "18         53  \n",
      "19        NaN  \n",
      "20         57  \n",
      "21         54  \n",
      "22        NaN  \n",
      "23         53  \n",
      "24        NaN  \n",
      "25         57  \n",
      "26         50  \n",
      "27         54  \n",
      "28         52  \n",
      "29        NaN  \n",
      "30         56  \n",
      "31        NaN  \n",
      "32         43  \n"
     ]
    },
    {
     "data": {
      "text/plain": [
       "Index(['Unnamed: 0', 'Unnamed: 1', 'Unnamed: 2', 'Total Served', 'Unnamed: 3',\n",
       "       'Unnamed: 4', 'Unnamed: 5', 'Penetration Rates', 'Unnamed: 6',\n",
       "       'Unnamed: 7'],\n",
       "      dtype='object')"
      ]
     },
     "execution_count": 36,
     "metadata": {},
     "output_type": "execute_result"
    }
   ],
   "source": [
    "\n"
   ]
  },
  {
   "cell_type": "code",
   "execution_count": 58,
   "metadata": {},
   "outputs": [
    {
     "name": "stdout",
     "output_type": "stream",
     "text": [
      "RangeIndex(start=4, stop=13, step=1)\n"
     ]
    },
    {
     "data": {
      "text/html": [
       "<div>\n",
       "<style scoped>\n",
       "    .dataframe tbody tr th:only-of-type {\n",
       "        vertical-align: middle;\n",
       "    }\n",
       "\n",
       "    .dataframe tbody tr th {\n",
       "        vertical-align: top;\n",
       "    }\n",
       "\n",
       "    .dataframe thead th {\n",
       "        text-align: right;\n",
       "    }\n",
       "</style>\n",
       "<table border=\"1\" class=\"dataframe\">\n",
       "  <thead>\n",
       "    <tr style=\"text-align: right;\">\n",
       "      <th></th>\n",
       "      <th>Measure</th>\n",
       "      <th>PatientsServed</th>\n",
       "      <th>ServedRate</th>\n",
       "    </tr>\n",
       "  </thead>\n",
       "  <tbody>\n",
       "    <tr>\n",
       "      <th>4</th>\n",
       "      <td>0-12</td>\n",
       "      <td>15,802</td>\n",
       "      <td>11.9</td>\n",
       "    </tr>\n",
       "    <tr>\n",
       "      <th>5</th>\n",
       "      <td>13-17</td>\n",
       "      <td>18,129</td>\n",
       "      <td>32.7</td>\n",
       "    </tr>\n",
       "    <tr>\n",
       "      <th>6</th>\n",
       "      <td>18-20</td>\n",
       "      <td>5,825</td>\n",
       "      <td>16.9</td>\n",
       "    </tr>\n",
       "    <tr>\n",
       "      <th>7</th>\n",
       "      <td>21-24</td>\n",
       "      <td>6,879</td>\n",
       "      <td>15.1</td>\n",
       "    </tr>\n",
       "    <tr>\n",
       "      <th>8</th>\n",
       "      <td>25-44</td>\n",
       "      <td>39,398</td>\n",
       "      <td>16.8</td>\n",
       "    </tr>\n",
       "    <tr>\n",
       "      <th>9</th>\n",
       "      <td>45-64</td>\n",
       "      <td>30,113</td>\n",
       "      <td>13.6</td>\n",
       "    </tr>\n",
       "    <tr>\n",
       "      <th>10</th>\n",
       "      <td>65-74</td>\n",
       "      <td>6,130</td>\n",
       "      <td>7.2</td>\n",
       "    </tr>\n",
       "    <tr>\n",
       "      <th>11</th>\n",
       "      <td>75 and over</td>\n",
       "      <td>1,656</td>\n",
       "      <td>3.0</td>\n",
       "    </tr>\n",
       "    <tr>\n",
       "      <th>12</th>\n",
       "      <td>Age Not Available</td>\n",
       "      <td>4</td>\n",
       "      <td>-</td>\n",
       "    </tr>\n",
       "  </tbody>\n",
       "</table>\n",
       "</div>"
      ],
      "text/plain": [
       "              Measure PatientsServed ServedRate\n",
       "4                0-12         15,802       11.9\n",
       "5               13-17         18,129       32.7\n",
       "6               18-20          5,825       16.9\n",
       "7               21-24          6,879       15.1\n",
       "8               25-44         39,398       16.8\n",
       "9               45-64         30,113       13.6\n",
       "10              65-74          6,130        7.2\n",
       "11        75 and over          1,656        3.0\n",
       "12  Age Not Available              4          -"
      ]
     },
     "execution_count": 58,
     "metadata": {},
     "output_type": "execute_result"
    }
   ],
   "source": [
    "\n"
   ]
  },
  {
   "cell_type": "code",
   "execution_count": 63,
   "metadata": {},
   "outputs": [
    {
     "name": "stdout",
     "output_type": "stream",
     "text": [
      "                                 Measure PatientsServed ServedRate State\n",
      "0    Total Clients Served by SMHA System        123,936       14.3    VA\n",
      "1   Clients Served in Community Settings        122,155       14.1    VA\n",
      "2      Clients Served in State Hospitals          5,327        0.6    VA\n",
      "4                                   0-12         15,802       11.9    VA\n",
      "5                                  13-17         18,129       32.7    VA\n",
      "6                                  18-20          5,825       16.9    VA\n",
      "7                                  21-24          6,879       15.1    VA\n",
      "8                                  25-44         39,398       16.8    VA\n",
      "9                                  45-64         30,113       13.6    VA\n",
      "10                                 65-74          6,130        7.2    VA\n",
      "11                           75 and over          1,656        3.0    VA\n",
      "12                     Age Not Available              4          -    VA\n"
     ]
    },
    {
     "name": "stderr",
     "output_type": "stream",
     "text": [
      "/var/folders/55/27d1cbps3wdcwcpwg9hs8vg80000gn/T/ipykernel_41872/4116404047.py:9: FutureWarning: The frame.append method is deprecated and will be removed from pandas in a future version. Use pandas.concat instead.\n",
      "  df_va = df_total.append(df_2)\n"
     ]
    }
   ],
   "source": [
    "       "
   ]
  }
 ],
 "metadata": {
  "kernelspec": {
   "display_name": "snowflakes",
   "language": "python",
   "name": "python3"
  },
  "language_info": {
   "codemirror_mode": {
    "name": "ipython",
    "version": 3
   },
   "file_extension": ".py",
   "mimetype": "text/x-python",
   "name": "python",
   "nbconvert_exporter": "python",
   "pygments_lexer": "ipython3",
   "version": "3.9.13"
  }
 },
 "nbformat": 4,
 "nbformat_minor": 2
}
