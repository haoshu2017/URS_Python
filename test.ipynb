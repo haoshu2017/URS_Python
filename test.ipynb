{
 "cells": [
  {
   "cell_type": "code",
   "execution_count": 2,
   "metadata": {},
   "outputs": [],
   "source": [
    "import numpy as np \n",
    "import pandas as pd\n",
    "import os\n",
    "\n",
    "from tabula import read_pdf\n",
    "from tabulate import tabulate"
   ]
  },
  {
   "cell_type": "code",
   "execution_count": 3,
   "metadata": {},
   "outputs": [
    {
     "name": "stdout",
     "output_type": "stream",
     "text": [
      "['URS_PuertoRico.pdf', 'URS_VA.pdf', 'URS_Palau.pdf', 'URS_SC.pdf']\n",
      "[]\n"
     ]
    }
   ],
   "source": [
    "# Define Dir with working raw datasets\n",
    "os.getcwd()\n",
    "\n",
    "pdf_dir = 'Raw Data/'\n",
    "print(os.listdir(pdf_dir))\n",
    "\n",
    "output_dir = 'Cleaned Data/'\n",
    "print(os.listdir(output_dir))\n"
   ]
  },
  {
   "cell_type": "code",
   "execution_count": 5,
   "metadata": {},
   "outputs": [],
   "source": [
    "# Define a function process_pdf to process raw pdf and save into a dataframe\n",
    "\n",
    "def process_pdf(pdf_file, state_code): \n",
    "\n",
    "    ## Read table on page 4\n",
    "\n",
    "    tables_pg4 = read_pdf(os.path.join(pdf_dir, pdf_file), pages=4, multiple_tables=True)\n",
    "    \n",
    "    ## Read tables[2] into a dataframe \n",
    "    df_total = pd.DataFrame(tables_pg4[2])\n",
    "\n",
    "    ## Read tables from page 5 \n",
    "    tables_pg5= read_pdf(os.path.join(pdf_dir,pdf_file), pages=5, multiple_tables=True )\n",
    "\n",
    "    df_age = pd.DataFrame(tables_pg5[0])\n",
    "\n",
    "    ## Only selecting specfic rows and columns that are associated with served patients & rates\n",
    "    df_ageshort = df_age[[\"Unnamed: 0\", \"Unnamed: 1\", \"Unnamed: 5\"]][4:13]\n",
    "\n",
    "    ## Rename the df_ageshort dataframe by the column index\n",
    "    df_2 = df_ageshort.rename(columns={df_ageshort.columns[0]: \"Measure\", \n",
    "                                       df_ageshort.columns[1]: \"PatientsServed\", \n",
    "                                       df_ageshort.columns[2]: \"ServedRate\"})\n",
    "\n",
    "\n",
    "\n",
    "    ## Combine Total measure summary table with the age table \n",
    "    df_total = df_total.rename(columns= {df_total.columns[1]: \"PatientsServed\", \n",
    "                                         df_total.columns[2]: \"ServedRate\"})\n",
    "\n",
    "\n",
    "    df_transformed = df_total.append(df_2)\n",
    "\n",
    "    ## Add a column indicating the state \n",
    "    df_transformed['State'] = state_code\n",
    "\n",
    "    return df_transformed\n"
   ]
  },
  {
   "cell_type": "code",
   "execution_count": 8,
   "metadata": {},
   "outputs": [
    {
     "name": "stderr",
     "output_type": "stream",
     "text": [
      "/var/folders/55/27d1cbps3wdcwcpwg9hs8vg80000gn/T/ipykernel_62045/783782525.py:32: FutureWarning: The frame.append method is deprecated and will be removed from pandas in a future version. Use pandas.concat instead.\n",
      "  df_transformed = df_total.append(df_2)\n"
     ]
    },
    {
     "name": "stdout",
     "output_type": "stream",
     "text": [
      "           Gender PatientsServed ServedRate Percent.1            Measure  \\\n",
      "0          Female          40.0%    0 to 12     10.3%                NaN   \n",
      "1            Male          60.0%   13 to 17     11.1%                NaN   \n",
      "2           Other              -   18 to 20      2.8%                NaN   \n",
      "3   Not Available              -   21 to 24      2.1%                NaN   \n",
      "4             NaN            291          -       NaN               0-12   \n",
      "5             NaN            313          -       NaN              13-17   \n",
      "6             NaN             78          -       NaN              18-20   \n",
      "7             NaN             59          -       NaN              21-24   \n",
      "8             NaN            679          -       NaN              25-44   \n",
      "9             NaN            938          -       NaN              45-64   \n",
      "10            NaN            333          -       NaN              65-74   \n",
      "11            NaN            127          -       NaN        75 and over   \n",
      "12            NaN              1          -       NaN  Age Not Available   \n",
      "\n",
      "         State  \n",
      "0   PuertoRico  \n",
      "1   PuertoRico  \n",
      "2   PuertoRico  \n",
      "3   PuertoRico  \n",
      "4   PuertoRico  \n",
      "5   PuertoRico  \n",
      "6   PuertoRico  \n",
      "7   PuertoRico  \n",
      "8   PuertoRico  \n",
      "9   PuertoRico  \n",
      "10  PuertoRico  \n",
      "11  PuertoRico  \n",
      "12  PuertoRico  \n"
     ]
    },
    {
     "name": "stderr",
     "output_type": "stream",
     "text": [
      "/var/folders/55/27d1cbps3wdcwcpwg9hs8vg80000gn/T/ipykernel_62045/783782525.py:32: FutureWarning: The frame.append method is deprecated and will be removed from pandas in a future version. Use pandas.concat instead.\n",
      "  df_transformed = df_total.append(df_2)\n"
     ]
    },
    {
     "name": "stdout",
     "output_type": "stream",
     "text": [
      "                                 Measure PatientsServed ServedRate State\n",
      "0    Total Clients Served by SMHA System        123,936       14.3    VA\n",
      "1   Clients Served in Community Settings        122,155       14.1    VA\n",
      "2      Clients Served in State Hospitals          5,327        0.6    VA\n",
      "4                                   0-12         15,802       11.9    VA\n",
      "5                                  13-17         18,129       32.7    VA\n",
      "6                                  18-20          5,825       16.9    VA\n",
      "7                                  21-24          6,879       15.1    VA\n",
      "8                                  25-44         39,398       16.8    VA\n",
      "9                                  45-64         30,113       13.6    VA\n",
      "10                                 65-74          6,130        7.2    VA\n",
      "11                           75 and over          1,656        3.0    VA\n",
      "12                     Age Not Available              4          -    VA\n"
     ]
    },
    {
     "name": "stderr",
     "output_type": "stream",
     "text": [
      "/var/folders/55/27d1cbps3wdcwcpwg9hs8vg80000gn/T/ipykernel_62045/783782525.py:32: FutureWarning: The frame.append method is deprecated and will be removed from pandas in a future version. Use pandas.concat instead.\n",
      "  df_transformed = df_total.append(df_2)\n"
     ]
    },
    {
     "name": "stdout",
     "output_type": "stream",
     "text": [
      "                                 Measure PatientsServed ServedRate  State\n",
      "0    Total Clients Served by SMHA System            443       24.6  Palau\n",
      "1   Clients Served in Community Settings            443       24.6  Palau\n",
      "2      Clients Served in State Hospitals              0        0.0  Palau\n",
      "4                                   0-12             27          -  Palau\n",
      "5                                  13-17             21          -  Palau\n",
      "6                                  18-20             21          -  Palau\n",
      "7                                  21-24             19          -  Palau\n",
      "8                                  25-44            155          -  Palau\n",
      "9                                  45-64            164          -  Palau\n",
      "10                                 65-74             28          -  Palau\n",
      "11                           75 and over              8          -  Palau\n",
      "12                     Age Not Available              -          -  Palau\n",
      "           Gender PatientsServed ServedRate Percent.1            Measure State\n",
      "0          Female          54.9%    0 to 12     16.6%                NaN    SC\n",
      "1            Male          45.1%   13 to 17     18.4%                NaN    SC\n",
      "2           Other              -   18 to 20      4.9%                NaN    SC\n",
      "3   Not Available           0.0%   21 to 24      5.0%                NaN    SC\n",
      "4             NaN         16,363       20.9       NaN               0-12    SC\n",
      "5             NaN         18,129       54.1       NaN              13-17    SC\n",
      "6             NaN          4,857       24.0       NaN              18-20    SC\n",
      "7             NaN          4,939       18.9       NaN              21-24    SC\n",
      "8             NaN         26,126       19.9       NaN              25-44    SC\n",
      "9             NaN         21,914       16.5       NaN              45-64    SC\n",
      "10            NaN          4,829        8.0       NaN              65-74    SC\n",
      "11            NaN          1,210        3.3       NaN        75 and over    SC\n",
      "12            NaN              2          -       NaN  Age Not Available    SC\n"
     ]
    },
    {
     "name": "stderr",
     "output_type": "stream",
     "text": [
      "/var/folders/55/27d1cbps3wdcwcpwg9hs8vg80000gn/T/ipykernel_62045/783782525.py:32: FutureWarning: The frame.append method is deprecated and will be removed from pandas in a future version. Use pandas.concat instead.\n",
      "  df_transformed = df_total.append(df_2)\n"
     ]
    },
    {
     "data": {
      "text/html": [
       "<div>\n",
       "<style scoped>\n",
       "    .dataframe tbody tr th:only-of-type {\n",
       "        vertical-align: middle;\n",
       "    }\n",
       "\n",
       "    .dataframe tbody tr th {\n",
       "        vertical-align: top;\n",
       "    }\n",
       "\n",
       "    .dataframe thead th {\n",
       "        text-align: right;\n",
       "    }\n",
       "</style>\n",
       "<table border=\"1\" class=\"dataframe\">\n",
       "  <thead>\n",
       "    <tr style=\"text-align: right;\">\n",
       "      <th></th>\n",
       "      <th>Gender</th>\n",
       "      <th>PatientsServed</th>\n",
       "      <th>ServedRate</th>\n",
       "      <th>Percent.1</th>\n",
       "      <th>Measure</th>\n",
       "      <th>State</th>\n",
       "    </tr>\n",
       "  </thead>\n",
       "  <tbody>\n",
       "    <tr>\n",
       "      <th>0</th>\n",
       "      <td>Female</td>\n",
       "      <td>40.0%</td>\n",
       "      <td>0 to 12</td>\n",
       "      <td>10.3%</td>\n",
       "      <td>NaN</td>\n",
       "      <td>PuertoRico</td>\n",
       "    </tr>\n",
       "    <tr>\n",
       "      <th>1</th>\n",
       "      <td>Male</td>\n",
       "      <td>60.0%</td>\n",
       "      <td>13 to 17</td>\n",
       "      <td>11.1%</td>\n",
       "      <td>NaN</td>\n",
       "      <td>PuertoRico</td>\n",
       "    </tr>\n",
       "    <tr>\n",
       "      <th>2</th>\n",
       "      <td>Other</td>\n",
       "      <td>-</td>\n",
       "      <td>18 to 20</td>\n",
       "      <td>2.8%</td>\n",
       "      <td>NaN</td>\n",
       "      <td>PuertoRico</td>\n",
       "    </tr>\n",
       "    <tr>\n",
       "      <th>3</th>\n",
       "      <td>Not Available</td>\n",
       "      <td>-</td>\n",
       "      <td>21 to 24</td>\n",
       "      <td>2.1%</td>\n",
       "      <td>NaN</td>\n",
       "      <td>PuertoRico</td>\n",
       "    </tr>\n",
       "    <tr>\n",
       "      <th>4</th>\n",
       "      <td>NaN</td>\n",
       "      <td>291</td>\n",
       "      <td>-</td>\n",
       "      <td>NaN</td>\n",
       "      <td>0-12</td>\n",
       "      <td>PuertoRico</td>\n",
       "    </tr>\n",
       "  </tbody>\n",
       "</table>\n",
       "</div>"
      ],
      "text/plain": [
       "          Gender PatientsServed ServedRate Percent.1 Measure       State\n",
       "0         Female          40.0%    0 to 12     10.3%     NaN  PuertoRico\n",
       "1           Male          60.0%   13 to 17     11.1%     NaN  PuertoRico\n",
       "2          Other              -   18 to 20      2.8%     NaN  PuertoRico\n",
       "3  Not Available              -   21 to 24      2.1%     NaN  PuertoRico\n",
       "4            NaN            291          -       NaN    0-12  PuertoRico"
      ]
     },
     "execution_count": 8,
     "metadata": {},
     "output_type": "execute_result"
    }
   ],
   "source": [
    "# Check if the output dir exists, if not, creat a dir\n",
    "if not os.path.exists(output_dir): \n",
    "    os.makedirs(output_dir)\n",
    "\n",
    "# Create an empty list to save all the state-specific dataframe\n",
    "all_transformed_data = []\n",
    "# Loop through all PDF files in the PDF dir\n",
    "for pdf_file in os.listdir(pdf_dir):\n",
    "    if pdf_file.endswith(\".pdf\"): \n",
    "        state_code = pdf_file.split('_')[1].split('.')[0] # extract the state code from the file name\n",
    "        df_transformed = process_pdf(pdf_file, state_code)\n",
    "        print(df_transformed.head(20))\n",
    "        all_transformed_data.append(df_transformed)\n",
    "    \n",
    "    \n",
    "\n",
    "# Combine all states into a single dataframe\n",
    "combined_df = pd.concat(all_transformed_data, ignore_index=True)\n",
    "\n",
    "combined_df.head(5)\n"
   ]
  },
  {
   "cell_type": "code",
   "execution_count": null,
   "metadata": {},
   "outputs": [],
   "source": []
  }
 ],
 "metadata": {
  "kernelspec": {
   "display_name": "snowflakes",
   "language": "python",
   "name": "python3"
  },
  "language_info": {
   "codemirror_mode": {
    "name": "ipython",
    "version": 3
   },
   "file_extension": ".py",
   "mimetype": "text/x-python",
   "name": "python",
   "nbconvert_exporter": "python",
   "pygments_lexer": "ipython3",
   "version": "3.9.13"
  }
 },
 "nbformat": 4,
 "nbformat_minor": 2
}
