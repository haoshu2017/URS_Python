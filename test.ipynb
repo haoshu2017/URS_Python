{
 "cells": [
  {
   "cell_type": "code",
   "execution_count": 1,
   "metadata": {},
   "outputs": [],
   "source": [
    "import numpy as np \n",
    "import pandas as pd\n",
    "\n",
    "from tabula import read_pdf\n",
    "from tabulate import tabulate"
   ]
  },
  {
   "cell_type": "code",
   "execution_count": 5,
   "metadata": {},
   "outputs": [
    {
     "name": "stdout",
     "output_type": "stream",
     "text": [
      "['URS_PuertoRico.pdf', 'URS_VA.pdf', 'URS_Palau.pdf', 'URS_SC.pdf']\n",
      "                                Measure Number of Clients  \\\n",
      "0   Total Clients Served by SMHA System           123,936   \n",
      "1  Clients Served in Community Settings           122,155   \n",
      "2     Clients Served in State Hospitals             5,327   \n",
      "\n",
      "   Utilization Rate Per 1,000 Population  \n",
      "0                                   14.3  \n",
      "1                                   14.1  \n",
      "2                                    0.6  \n"
     ]
    }
   ],
   "source": [
    "import os\n",
    "os.getcwd()\n",
    "\n",
    "pdf_dir = 'Raw Data/'\n",
    "print(os.listdir(pdf_dir))\n"
   ]
  },
  {
   "cell_type": "markdown",
   "metadata": {},
   "source": []
  },
  {
   "cell_type": "code",
   "execution_count": 12,
   "metadata": {},
   "outputs": [
    {
     "name": "stdout",
     "output_type": "stream",
     "text": [
      "                                Measure Number of Clients  \\\n",
      "0   Total Clients Served by SMHA System           123,936   \n",
      "1  Clients Served in Community Settings           122,155   \n",
      "2     Clients Served in State Hospitals             5,327   \n",
      "\n",
      "   Utilization Rate Per 1,000 Population  \n",
      "0                                   14.3  \n",
      "1                                   14.1  \n",
      "2                                    0.6  \n"
     ]
    }
   ],
   "source": [
    "## Read table from pdf file\n",
    "\n",
    "pdf_dir = 'Raw Data/'\n",
    "os.listdir\n",
    "\n",
    "tables_pg4 = read_pdf(os.path.join(pdf_dir, \"URS_VA.pdf\"), pages=4, multiple_tables=True)\n",
    "\n",
    "\n",
    "## Read tables[2] into a dataframe \n",
    "df_total = pd.DataFrame(tables_pg4[2])\n",
    "\n",
    "## Save the served patients by age group into a separate table \n",
    "tables_pg5= read_pdf(os.path.join(pdf_dir,\"URS_VA.pdf\"), pages=5, multiple_tables=True )\n",
    "\n",
    "df_age = pd.DataFrame(tables_pg5[0])\n",
    "\n",
    "# Only selecting specfic rows and columns that are associated with served patients & rates\n",
    "df_ageshort = df_age[[\"Unnamed: 0\", \"Unnamed: 1\", \"Unnamed: 5\"]][4:13]\n",
    "\n",
    "# Rename the df_ageshort dataframe by the column index\n",
    "df_2 = df_ageshort.rename(columns={df_ageshort.columns[0]: \"Measure\", \n",
    "                                    df_ageshort.columns[1]: \"PatientsServed\", \n",
    "                                    df_ageshort.columns[2]: \"ServedRate\"})\n",
    "\n",
    "df_2.head(10)\n",
    "\n",
    "## Combine Total measure summary table with the age table \n",
    "# First rename the Total measure summary table so it will be eaiser to append\n",
    "df_total = df_total.rename(columns= {df_total.columns[1]: \"PatientsServed\", \n",
    "                                     df_total.columns[2]: \"ServedRate\"})\n",
    "\n",
    "df_total.head(5)\n",
    "\n",
    "df_transformed = df_total.append(df_2)\n",
    "\n",
    "# Add a column indicating the state \n",
    "df_transformed['State'] = 'VA'\n",
    "\n",
    "\n",
    "\n"
   ]
  }
 ],
 "metadata": {
  "kernelspec": {
   "display_name": "snowflakes",
   "language": "python",
   "name": "python3"
  },
  "language_info": {
   "codemirror_mode": {
    "name": "ipython",
    "version": 3
   },
   "file_extension": ".py",
   "mimetype": "text/x-python",
   "name": "python",
   "nbconvert_exporter": "python",
   "pygments_lexer": "ipython3",
   "version": "3.9.13"
  }
 },
 "nbformat": 4,
 "nbformat_minor": 2
}
