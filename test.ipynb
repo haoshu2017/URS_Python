{
 "cells": [
  {
   "cell_type": "code",
   "execution_count": null,
   "metadata": {},
   "outputs": [],
   "source": [
    "import numpy as np \n",
    "import pandas as pd\n",
    "import os\n",
    "\n",
    "from tabula import read_pdf\n",
    "from tabulate import tabulate"
   ]
  },
  {
   "cell_type": "code",
   "execution_count": null,
   "metadata": {},
   "outputs": [],
   "source": [
    "# Define Dir with working raw datasets\n",
    "os.getcwd()\n",
    "\n",
    "pdf_dir = 'Raw Data/'\n",
    "print(os.listdir(pdf_dir))\n",
    "\n",
    "output_dir = 'Cleaned Data/'\n",
    "print(os.listdir(output_dir))\n"
   ]
  },
  {
   "cell_type": "code",
   "execution_count": null,
   "metadata": {},
   "outputs": [],
   "source": [
    "# Define a function process_pdf to process raw pdf and save into a dataframe\n",
    "\n",
    "def process_pdf(pdf_file, state_code): \n",
    "\n",
    "    ## Read table on page 4\n",
    "\n",
    "    tables_pg4 = read_pdf(os.path.join(pdf_dir, pdf_file), pages=4, multiple_tables=True)\n",
    "    \n",
    "    ## Read tables[2] into a dataframe \n",
    "    df_total = pd.DataFrame(tables_pg4[2])\n",
    "\n",
    "    ## Read tables from page 5 \n",
    "    tables_pg5= read_pdf(os.path.join(pdf_dir,pdf_file), pages=5, multiple_tables=True )\n",
    "\n",
    "    df_age = pd.DataFrame(tables_pg5[0])\n",
    "\n",
    "    ## Only selecting specfic rows and columns that are associated with served patients & rates\n",
    "    df_ageshort = df_age[[\"Unnamed: 0\", \"Unnamed: 1\", \"Unnamed: 5\"]][4:13]\n",
    "\n",
    "    ## Rename the df_ageshort dataframe by the column index\n",
    "    df_2 = df_ageshort.rename(columns={df_ageshort.columns[0]: \"Measure\", \n",
    "                                       df_ageshort.columns[1]: \"PatientsServed\", \n",
    "                                       df_ageshort.columns[2]: \"ServedRate\"})\n",
    "\n",
    "\n",
    "\n",
    "    ## Combine Total measure summary table with the age table \n",
    "    df_total = df_total.rename(columns= {df_total.columns[1]: \"PatientsServed\", \n",
    "                                         df_total.columns[2]: \"ServedRate\"})\n",
    "\n",
    "\n",
    "    df_transformed = df_total.append(df_2)\n",
    "\n",
    "    ## Add a column indicating the state \n",
    "    df_transformed['State'] = state_code\n",
    "\n",
    "    return df_transformed\n"
   ]
  },
  {
   "cell_type": "code",
   "execution_count": null,
   "metadata": {},
   "outputs": [],
   "source": [
    "# Check if the output dir exists, if not, creat a dir\n",
    "if not os.path.exists(output_dir): \n",
    "    os.makedirs(output_dir)\n",
    "\n",
    "# Create an empty list to save all the state-specific dataframe\n",
    "all_transformed_data = []\n",
    "# Loop through all PDF files in the PDF dir\n",
    "for pdf_file in os.listdir(pdf_dir):\n",
    "    if pdf_file.endswith(\".pdf\"): \n",
    "        state_code = pdf_file.split('_')[1].split('.')[0] # extract the state code from the file name\n",
    "        df_transformed = process_pdf(pdf_file, state_code)\n",
    "        print(df_transformed.head(20))\n",
    "        all_transformed_data.append(df_transformed)\n",
    "    \n",
    "    \n",
    "\n",
    "# Combine all states into a single dataframe\n",
    "combined_df = pd.concat(all_transformed_data, ignore_index=True)\n",
    "\n",
    "combined_df.head(5)\n"
   ]
  }
 ],
 "metadata": {
  "kernelspec": {
   "display_name": "snowflakes",
   "language": "python",
   "name": "python3"
  },
  "language_info": {
   "codemirror_mode": {
    "name": "ipython",
    "version": 3
   },
   "file_extension": ".py",
   "mimetype": "text/x-python",
   "name": "python",
   "nbconvert_exporter": "python",
   "pygments_lexer": "ipython3",
   "version": "3.9.13"
  }
 },
 "nbformat": 4,
 "nbformat_minor": 2
}
